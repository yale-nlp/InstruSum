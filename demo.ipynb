{
 "cells": [
  {
   "cell_type": "markdown",
   "metadata": {},
   "source": [
    "# InstruSum Data Analysis"
   ]
  },
  {
   "cell_type": "markdown",
   "metadata": {},
   "source": [
    "## Load datasets"
   ]
  },
  {
   "cell_type": "code",
   "execution_count": null,
   "metadata": {},
   "outputs": [],
   "source": [
    "%pip install datasets\n",
    "%pip install tabulate\n",
    "%pip install scipy"
   ]
  },
  {
   "cell_type": "code",
   "execution_count": 15,
   "metadata": {},
   "outputs": [],
   "source": [
    "from datasets import load_dataset\n",
    "from tabulate import tabulate"
   ]
  },
  {
   "cell_type": "markdown",
   "metadata": {},
   "source": [
    "### Load data examples"
   ]
  },
  {
   "cell_type": "code",
   "execution_count": null,
   "metadata": {},
   "outputs": [],
   "source": [
    "dataset_name = \"Salesforce/InstruSum\""
   ]
  },
  {
   "cell_type": "code",
   "execution_count": null,
   "metadata": {},
   "outputs": [],
   "source": [
    "dataset = load_dataset(dataset_name, \"dataset\")[\"data\"]"
   ]
  },
  {
   "cell_type": "markdown",
   "metadata": {},
   "source": [
    "Check one data example"
   ]
  },
  {
   "cell_type": "code",
   "execution_count": 3,
   "metadata": {},
   "outputs": [
    {
     "data": {
      "text/plain": [
       "{'hybrid_summary': \"After being contacted by BBC Money Box, Lloyds started a new investigation and concluded that its initial response was wrong. They agreed to refund all of Margaret's money, plus interest and £600 by way of compensation. Vodafone also said they would provide the details of an individual who may have used Margaret's account to the police. Sue is grateful for the refund but hopes that someone will be held accountable for the fraud.\",\n",
       " 'article': '\"I was shaking with rage and stress, I couldn\\'t believe this had happened.\" By Dan WhitworthMoney Box reporter Sue is describing the moment she discovered that her late mother, Margaret (not their real names), who\\'d spent the last years of her life battling dementia, had had more than £14,000 stolen through direct debit fraud. \"To be told that that amount of money had been taken... I was outraged that someone could steal off my mother,\" Sue says. And she is not alone in her concern. The charity Action on Elder Abuse is warning about the dangers of direct debits being fraudulently set up in the name of vulnerable victims. The charity says it\\'s concerned about loopholes and a lack of transparency within the current system. But the Direct Debit scheme says its guarantee means companies that use it to take payments directly from customers\\' bank accounts are carefully vetted. \\'Legitimately\\' set up After being diagnosed with dementia in 2010, Margaret moved into a nursing home. Three years later, at a point when Margaret could no longer care for herself, two direct debits were set up using her bank account details. Over the next four years more than £14,000 of Margaret\\'s money was stolen to pay the direct debits and it was only after she died in 2017 that her daughter Sue discovered what had happened. Sue began trying to find out what had happened but was told by her mother\\'s bank, Lloyds, that it had carried out an investigation and it had concluded the direct debits had been \"legitimately\" set up so it would not be refunding any money. Most of the money stolen from Margaret\\'s account was used to pay Vodafone, but the company told Sue it was unable to help or provide any details of who was receiving its services because of \"data protection\" rules. Sue also contacted her local police force. It referred her to Action Fraud which said it was unlikely any further action would be taken. Sue described the reaction from her bank as \"disgusting\". \"The whole thing was taking over my life. I didn\\'t know where to go for help, I couldn\\'t sleep. All day long I was on the internet trying to find out who else I could go to for help but there was nothing.\" \"I wrote and explained that my mum couldn\\'t have set up these direct debits. \"I explained she couldn\\'t feed herself, she couldn\\'t go to the bathroom on her own, she was monitored all the time. \"She didn\\'t have the capacity in her mind to think about setting up a direct debit and nobody listened. It was like [I] was being ignored and I had the feeling that because my mum was dead they [Lloyds] couldn\\'t care less.\" Direct Debit offers a guarantee which explains that companies wishing to use it to take payments directly from people\\'s bank accounts have to go through a careful vetting process. A spokesperson for the Direct Debit scheme said: \"The billers [companies] are required to carry out payer verification checks when a Direct Debit Instruction is set up - details of the verification checks used by billers cannot be shared for obvious reasons.\" The safeguards supposedly in place to protect vulnerable people, as well as the loopholes in the system, is something that Veronica Gray from Action on Elder Abuse says need tackling. \"This particular case highlights a lack of transparency in how the system operates. This level of passing the buck when elderly or vulnerable people fall between the gaps is just not good enough. \"The Financial Abuse Code of Practice, which is a voluntary code but which many banks have signed up to, is very clear about how financial institutions should treat vulnerable customers. Clearly this has not been used in this case. \"[Bank] staff are struggling to know what signs to look for and clearly don\\'t have the skills to and expertise to identify patterns of abuse when they see them.\" When it was contacted by BBC Money Box, Lloyds started a new investigation which concluded that its initial response was wrong and it would be refunding all of Margaret\\'s money, plus interest and £600 by way of compensation. A Lloyds spokesperson said: \"We were very sorry to hear of the difficulties experienced by Sue when dealing with her late mother\\'s account. While we were not informed back in 2010 that Margaret had moved into a nursing home, it should have been clear when her daughter contacted us in 2017 - following her mother\\'s death - that Margaret would not have been in a position to arrange these Direct Debits. \"We would like to apologise for the distress and inconvenience caused by our handling of this case and have now arranged for a full refund of all the payments.\" Warning signs Vodafone said in a statement that it was also looking again at the case and would be providing the details of an individual who may have used Margaret\\'s account to the police. It added there were a \"wide range of security verification and fraud checks when opening a new account\", but that people can subsequently change the direct debit details. It also said it would welcome any initiative that further strengthened the direct debit system. Whilst Sue is grateful that Lloyds have decided to refund the money stolen from her mother\\'s account she just wants to make sure this can\\'t happen to someone else. \"I really would like someone to be accountable for doing this. You know, for the police or somebody to find out who did this - in case they\\'re doing this to somebody else. \"Lloyds should have looked into the fact that this account had laid dormant for years and then all of a sudden this money is coming out of it - surely that would ring a bell, that something\\'s wrong there? \"And once you say someone\\'s in a home with dementia and these things have happened surely that should mean something?\" You can hear more on BBC Radio 4\\'s Money Box programme on Saturday at 12pm or listen again here. Follow Money Box and Dan on twitter.',\n",
       " 'requirement': 'Summarize the conclusion of the fraud case.',\n",
       " 'llm_summary': \"After being contacted by BBC Money Box, Lloyds started a new investigation and concluded that its initial response was wrong. They agreed to refund all of Margaret's money, plus interest and £600 by way of compensation. Vodafone also said they would provide the details of an individual who may have used Margaret's account to the police. Sue is grateful for the refund but hopes that someone will be held accountable for the fraud.\"}"
      ]
     },
     "execution_count": 3,
     "metadata": {},
     "output_type": "execute_result"
    }
   ],
   "source": [
    "dataset[0]"
   ]
  },
  {
   "cell_type": "markdown",
   "metadata": {},
   "source": [
    "### Load human evaluation data"
   ]
  },
  {
   "cell_type": "code",
   "execution_count": null,
   "metadata": {},
   "outputs": [],
   "source": [
    "human_eval = load_dataset(dataset_name, \"human_eval\")[\"data\"]"
   ]
  },
  {
   "cell_type": "markdown",
   "metadata": {},
   "source": [
    "Explore the data structure"
   ]
  },
  {
   "cell_type": "code",
   "execution_count": 5,
   "metadata": {},
   "outputs": [
    {
     "data": {
      "text/plain": [
       "dict_keys(['annotations', 'article', 'requirement'])"
      ]
     },
     "execution_count": 5,
     "metadata": {},
     "output_type": "execute_result"
    }
   ],
   "source": [
    "human_eval[0].keys()"
   ]
  },
  {
   "cell_type": "code",
   "execution_count": 6,
   "metadata": {},
   "outputs": [
    {
     "data": {
      "text/plain": [
       "dict_keys(['gpt-3.5-turbo-0301', 'gpt-4-0314', 'hybrid', 'text-davinci-002', 'text-davinci-003'])"
      ]
     },
     "execution_count": 6,
     "metadata": {},
     "output_type": "execute_result"
    }
   ],
   "source": [
    "human_eval[0][\"annotations\"].keys()"
   ]
  },
  {
   "cell_type": "code",
   "execution_count": 7,
   "metadata": {},
   "outputs": [
    {
     "data": {
      "text/plain": [
       "{'score': {'factual': 1.0,\n",
       "  'irrelevant': 3.0,\n",
       "  'missing': 3.6666666666666665,\n",
       "  'overall': 3.0},\n",
       " 'summary': \"Lloyds Bank has apologized and refunded over £14,000, plus interest and £600 in compensation, to a woman whose late mother's account was targeted by direct debit fraud. The bank initially claimed the direct debits were legitimately set up and refused to refund the money. After being contacted by BBC Money Box, Lloyds conducted a new investigation and admitted its initial response was wrong. Vodafone, which received most of the stolen funds, is also reviewing the case and will provide details of a possible suspect to the police.\"}"
      ]
     },
     "execution_count": 7,
     "metadata": {},
     "output_type": "execute_result"
    }
   ],
   "source": [
    "human_eval[0][\"annotations\"][\"gpt-4-0314\"]"
   ]
  },
  {
   "cell_type": "markdown",
   "metadata": {},
   "source": [
    "Compute the average system scores"
   ]
  },
  {
   "cell_type": "code",
   "execution_count": 18,
   "metadata": {},
   "outputs": [
    {
     "name": "stdout",
     "output_type": "stream",
     "text": [
      "Model                 overall    missing    irrelevant    factual\n",
      "------------------  ---------  ---------  ------------  ---------\n",
      "text-davinci-002        2.344      2.595         3.443      0.640\n",
      "text-davinci-003        3.239      3.702         3.708      0.710\n",
      "gpt-3.5-turbo-0301      2.897      3.473         2.958      0.800\n",
      "gpt-4-0314              3.970      4.067         4.205      0.860\n",
      "hybrid                  3.873      3.948         4.359      0.860\n"
     ]
    }
   ],
   "source": [
    "models = [\"text-davinci-002\", \"text-davinci-003\", \"gpt-3.5-turbo-0301\", \"gpt-4-0314\", \"hybrid\"]\n",
    "aspects = [\"overall\", \"missing\", \"irrelevant\", \"factual\"]\n",
    "scores = {model: {aspect: [] for aspect in aspects} for model in models}\n",
    "for row in human_eval:\n",
    "    for model in models:\n",
    "        for aspect in aspects:\n",
    "            scores[model][aspect].append(row[\"annotations\"][model][\"score\"][aspect])\n",
    "for model in models:\n",
    "    for aspect in aspects:\n",
    "        scores[model][aspect] = sum(scores[model][aspect]) / len(scores[model][aspect])\n",
    "table = [[\"Model\"] + aspects]\n",
    "for model in models:\n",
    "    table.append([model] + [scores[model][aspect] for aspect in aspects])\n",
    "print(tabulate(table, headers=\"firstrow\", floatfmt=\".3f\"))"
   ]
  },
  {
   "cell_type": "markdown",
   "metadata": {},
   "source": [
    "### Load LLM-based evaluation data"
   ]
  },
  {
   "cell_type": "code",
   "execution_count": null,
   "metadata": {},
   "outputs": [],
   "source": [
    "llm_eval = load_dataset(dataset_name, \"llm_eval\")[\"data\"]"
   ]
  },
  {
   "cell_type": "markdown",
   "metadata": {},
   "source": [
    "Explore the data structure"
   ]
  },
  {
   "cell_type": "code",
   "execution_count": 9,
   "metadata": {},
   "outputs": [
    {
     "data": {
      "text/plain": [
       "dict_keys(['system_outputs', 'article', 'requirement', 'llm_scores'])"
      ]
     },
     "execution_count": 9,
     "metadata": {},
     "output_type": "execute_result"
    }
   ],
   "source": [
    "llm_eval[0].keys()"
   ]
  },
  {
   "cell_type": "markdown",
   "metadata": {},
   "source": [
    "There are 3 evaluation aspects."
   ]
  },
  {
   "cell_type": "code",
   "execution_count": 10,
   "metadata": {},
   "outputs": [
    {
     "data": {
      "text/plain": [
       "dict_keys(['irrelevant', 'missing', 'overall'])"
      ]
     },
     "execution_count": 10,
     "metadata": {},
     "output_type": "execute_result"
    }
   ],
   "source": [
    "llm_eval[0][\"llm_scores\"].keys()"
   ]
  },
  {
   "cell_type": "markdown",
   "metadata": {},
   "source": [
    "There are 11 LLMs in total."
   ]
  },
  {
   "cell_type": "code",
   "execution_count": 11,
   "metadata": {},
   "outputs": [
    {
     "data": {
      "text/plain": [
       "dict_keys(['gpt-3.5-turbo-0301', 'gpt-3.5-turbo-0613', 'gpt-3.5-turbo-instruct', 'gpt-4-0314', 'gpt-4-1106-preview', 'llama-2-13b-chat', 'llama-2-70b-chat', 'llama-2-7b-chat', 'mistral-instruct', 'text-davinci-002', 'text-davinci-003'])"
      ]
     },
     "execution_count": 11,
     "metadata": {},
     "output_type": "execute_result"
    }
   ],
   "source": [
    "llm_eval[0][\"llm_scores\"][\"overall\"].keys()"
   ]
  },
  {
   "cell_type": "markdown",
   "metadata": {},
   "source": [
    "Each LLM is used with different evaluation protocols."
   ]
  },
  {
   "cell_type": "code",
   "execution_count": 19,
   "metadata": {},
   "outputs": [
    {
     "data": {
      "text/plain": [
       "dict_keys(['llmcompare', 'llmeval', 'llmrank'])"
      ]
     },
     "execution_count": 19,
     "metadata": {},
     "output_type": "execute_result"
    }
   ],
   "source": [
    "llm_eval[0][\"llm_scores\"][\"overall\"]['gpt-3.5-turbo-0301'].keys()"
   ]
  },
  {
   "cell_type": "markdown",
   "metadata": {},
   "source": [
    "Let's check the LLMCompare scores."
   ]
  },
  {
   "cell_type": "code",
   "execution_count": 20,
   "metadata": {},
   "outputs": [
    {
     "data": {
      "text/plain": [
       "{'gpt-3.5-turbo-0301': 1.75,\n",
       " 'gpt-4-0314': 1.75,\n",
       " 'hybrid': 0.25,\n",
       " 'text-davinci-002': 0.75,\n",
       " 'text-davinci-003': 0.5}"
      ]
     },
     "execution_count": 20,
     "metadata": {},
     "output_type": "execute_result"
    }
   ],
   "source": [
    "llm_eval[0][\"llm_scores\"][\"overall\"]['gpt-3.5-turbo-0301'][\"llmcompare\"]"
   ]
  },
  {
   "cell_type": "markdown",
   "metadata": {},
   "source": [
    "Compute the system-level correlation of different LLM-based evaluation methods on the overall quality aspect"
   ]
  },
  {
   "cell_type": "code",
   "execution_count": 21,
   "metadata": {},
   "outputs": [
    {
     "name": "stdout",
     "output_type": "stream",
     "text": [
      "Model                     llmrank    llmcompare    llmeval\n",
      "----------------------  ---------  ------------  ---------\n",
      "text-davinci-002           -0.200         0.400      0.738\n",
      "text-davinci-003            0.400         0.400      0.949\n",
      "gpt-3.5-turbo-0301          0.738         0.400      0.600\n",
      "gpt-3.5-turbo-0613          0.600         0.527      0.527\n",
      "gpt-3.5-turbo-instruct      0.400         0.600      0.738\n",
      "gpt-4-0314                  0.800         1.000      1.000\n",
      "gpt-4-1106-preview          0.400         0.800      0.800\n",
      "llama-2-7b-chat             0.200         0.527      0.527\n",
      "llama-2-13b-chat            0.105         0.400      1.000\n",
      "llama-2-70b-chat           -0.316         0.400      0.949\n",
      "mistral-instruct           -0.400         0.105      0.447\n"
     ]
    }
   ],
   "source": [
    "from scipy.stats import kendalltau\n",
    "\n",
    "models = [\n",
    "    \"text-davinci-002\",\n",
    "    \"text-davinci-003\",\n",
    "    \"gpt-3.5-turbo-0301\",\n",
    "    \"gpt-3.5-turbo-0613\",\n",
    "    \"gpt-3.5-turbo-instruct\",\n",
    "    \"gpt-4-0314\",\n",
    "    \"gpt-4-1106-preview\",\n",
    "    \"llama-2-7b-chat\",\n",
    "    \"llama-2-13b-chat\",\n",
    "    \"llama-2-70b-chat\",\n",
    "    \"mistral-instruct\",\n",
    "]\n",
    "systems = [\"text-davinci-002\", \"text-davinci-003\", \"gpt-3.5-turbo-0301\", \"gpt-4-0314\", \"hybrid\"]\n",
    "methods = [\"llmrank\", \"llmcompare\", \"llmeval\"]\n",
    "llm_eval_results = {model: dict() for model in models}\n",
    "\n",
    "for model in models:\n",
    "    for method in methods:\n",
    "        scores = {s: [] for s in systems}\n",
    "        for row in llm_eval:\n",
    "            for s in systems:\n",
    "                scores[s].append(row[\"llm_scores\"][\"overall\"][model][method][s])\n",
    "        for s in systems:\n",
    "            scores[s] = sum(scores[s]) / len(scores[s])\n",
    "        llm_eval_results[model][method] = scores\n",
    "\n",
    "human_scores = {s: [] for s in systems}\n",
    "for row in human_eval:\n",
    "    for s in systems:\n",
    "        human_scores[s].append(row[\"annotations\"][s][\"score\"][\"overall\"])\n",
    "for s in systems:\n",
    "    human_scores[s] = sum(human_scores[s]) / len(human_scores[s])\n",
    "human_scores = [human_scores[s] for s in systems]\n",
    "\n",
    "correlations = {model: dict() for model in models}\n",
    "for model in models:\n",
    "    for method in methods:\n",
    "        llm_scores = [llm_eval_results[model][method][s] for s in systems]\n",
    "        corr, _ = kendalltau(human_scores, llm_scores)\n",
    "        correlations[model][method] = corr\n",
    "\n",
    "table = [[\"Model\"] + methods]\n",
    "for model in models:\n",
    "    table.append([model] + [correlations[model][method] for method in methods])\n",
    "print(tabulate(table, headers=\"firstrow\", floatfmt=\".3f\"))"
   ]
  },
  {
   "cell_type": "markdown",
   "metadata": {},
   "source": [
    "### Load system outputs"
   ]
  },
  {
   "cell_type": "code",
   "execution_count": 13,
   "metadata": {},
   "outputs": [],
   "source": [
    "system_outputs = load_dataset(dataset_name, \"system_outputs\")[\"data\"]"
   ]
  },
  {
   "cell_type": "markdown",
   "metadata": {},
   "source": [
    "Check one data example"
   ]
  },
  {
   "cell_type": "code",
   "execution_count": 14,
   "metadata": {},
   "outputs": [
    {
     "data": {
      "text/plain": [
       "{'system_outputs': {'gpt-3.5-turbo-0301': 'Lloyds Bank has refunded more than £14,000 stolen from the account of a dementia sufferer after direct debits were fraudulently set up. The bank initially refused to refund the money, claiming the direct debits had been \"legitimately\" set up. The victim\\'s daughter, Sue, contacted the police and Action Fraud, but was told it was unlikely any further action would be taken. Lloyds has now apologised and refunded the money, plus interest and £600 compensation. Vodafone, which received most of the stolen money, said it was looking again at the case and would provide details of an individual who may have used the account to the police.',\n",
       "  'gpt-3.5-turbo-0613': \"In this fraud case, Sue discovered that over £14,000 had been stolen from her late mother's bank account through direct debit fraud. Despite reporting the incident to her mother's bank, Lloyds, and contacting the police, Sue received little help or support. However, after the BBC Money Box program intervened, Lloyds conducted a new investigation and admitted their initial response was wrong. They agreed to refund all the stolen money, along with interest and compensation. Vodafone, the company receiving the stolen funds, also stated that they would provide details to the police. Sue hopes that someone will be held accountable for the fraud and wants to prevent similar incidents from happening to others.\",\n",
       "  'gpt-3.5-turbo-instruct': 'The article discusses a case where a woman\\'s late mother, who suffered from dementia, had over £14,000 stolen through direct debit fraud. Despite the victim\\'s daughter\\'s efforts to seek help from the bank and authorities, she was initially told that the direct debits were \"legitimately\" set up and no refund would be given. However, after further investigation and media involvement, the bank admitted their mistake and refunded the stolen money. The article highlights the need for better safeguards and transparency in the direct debit system to protect vulnerable individuals from financial abuse.',\n",
       "  'gpt-4-0314': \"Lloyds Bank has apologized and refunded over £14,000, plus interest and £600 in compensation, to a woman whose late mother's account was targeted by direct debit fraud. The bank initially claimed the direct debits were legitimately set up and refused to refund the money. After being contacted by BBC Money Box, Lloyds conducted a new investigation and admitted its initial response was wrong. Vodafone, which received most of the stolen funds, is also reviewing the case and will provide details of a possible suspect to the police.\",\n",
       "  'gpt-4-1106-preview': \"After Sue, the daughter of a late dementia patient named Margaret, discovered that more than £14,000 had been fraudulently taken from her mother's account through direct debits, she faced initial resistance from Lloyds Bank, which claimed the transactions were legitimate. However, following a new investigation prompted by BBC Money Box's contact, Lloyds acknowledged their error and agreed to refund all the stolen money, plus interest and £600 in compensation. Vodafone, which received most of the stolen funds, also agreed to re-examine the case and provide information to the police. Sue hopes that by bringing attention to this issue, similar fraud against vulnerable individuals can be prevented in the future.\",\n",
       "  'llama-2-13b-chat': \"In conclusion, Sue's mother Margaret had £14,000 stolen through direct debit fraud after she was diagnosed with dementia and moved into a nursing home. The bank, Lloyds, initially refused to refund the money, but after the case was brought to light through the BBC's Money Box program, Lloyds launched a new investigation and concluded that its initial response was wrong. Lloyds will be refunding all of Margaret's money, plus interest, and paying £600 in compensation. The case highlights the dangers of direct debit fraud and the need for greater transparency and accountability in the system to protect vulnerable victims.\",\n",
       "  'llama-2-70b-chat': 'The article discusses a case of direct debit fraud where a woman\\'s mother, who had dementia, had over £14,000 stolen from her bank account through fraudulently set up direct debits. The bank, Lloyds, initially refused to refund the money, claiming that the direct debits had been \"legitimately\" set up. However, after the woman\\'s daughter, Sue, contacted the bank again and explained that her mother was unable to set up the direct debits due to her dementia, Lloyds launched a new investigation and decided to refund the money, plus interest and compensation. The article highlights the need for greater transparency and accountability in the direct debit system to prevent such fraud cases.',\n",
       "  'llama-2-7b-chat': 'After a BBC Money Box investigation, Lloyds Bank has refunded over £14,000 stolen from the account of a woman with dementia, Margaret. The bank had initially claimed that the direct debits were \"legitimately\" set up, but after further investigation, Lloyds found that the payments were made without Margaret\\'s knowledge or consent. The bank has apologized for the distress and inconvenience caused and has refunded all of Margaret\\'s money, plus interest and £600 in compensation. Vodafone, the company that received the majority of the stolen money, is also reviewing the case and will provide the details of an individual who may have used Margaret\\'s account to the police. The case highlights concerns about the lack of transparency in the direct debit system and the need for better safeguards to protect vulnerable people.',\n",
       "  'mistral-instruct': \"The article describes a case of direct debit fraud against a vulnerable elderly woman, Margaret, who had dementia and was living in a nursing home. The fraudulent direct debits were set up in her name and resulted in the theft of over £14,000. The article highlights the dangers of direct debit fraud against vulnerable victims and the loopholes and lack of transparency in the current system. The Direct Debit scheme states that it has safeguards in place to protect vulnerable people, but the case highlights the need for these safeguards to be improved. The article concludes that the bank, Lloyds, has now refunded all of Margaret's money, plus interest and compensation, after it was found that its initial response was wrong.\",\n",
       "  'text-davinci-002': \"After being contacted by BBC Money Box, Lloyds started a new investigation and concluded that its initial response was wrong. They agreed to refund all of Margaret's money, plus interest and £600 by way of compensation. Vodafone also said they would provide the details of an individual who may have used Margaret's account to the police. Sue is grateful for the refund but hopes that someone will be held accountable for the fraud.\",\n",
       "  'text-davinci-003': \"After being contacted by BBC Money Box, Lloyds started a new investigation and concluded that its initial response was wrong. They agreed to refund all of Margaret's money, plus interest and £600 by way of compensation. Vodafone also said they would provide the details of an individual who may have used Margaret's account to the police. Sue is grateful for the refund but hopes that someone will be held accountable for the fraud.\"},\n",
       " 'article': '\"I was shaking with rage and stress, I couldn\\'t believe this had happened.\" By Dan WhitworthMoney Box reporter Sue is describing the moment she discovered that her late mother, Margaret (not their real names), who\\'d spent the last years of her life battling dementia, had had more than £14,000 stolen through direct debit fraud. \"To be told that that amount of money had been taken... I was outraged that someone could steal off my mother,\" Sue says. And she is not alone in her concern. The charity Action on Elder Abuse is warning about the dangers of direct debits being fraudulently set up in the name of vulnerable victims. The charity says it\\'s concerned about loopholes and a lack of transparency within the current system. But the Direct Debit scheme says its guarantee means companies that use it to take payments directly from customers\\' bank accounts are carefully vetted. \\'Legitimately\\' set up After being diagnosed with dementia in 2010, Margaret moved into a nursing home. Three years later, at a point when Margaret could no longer care for herself, two direct debits were set up using her bank account details. Over the next four years more than £14,000 of Margaret\\'s money was stolen to pay the direct debits and it was only after she died in 2017 that her daughter Sue discovered what had happened. Sue began trying to find out what had happened but was told by her mother\\'s bank, Lloyds, that it had carried out an investigation and it had concluded the direct debits had been \"legitimately\" set up so it would not be refunding any money. Most of the money stolen from Margaret\\'s account was used to pay Vodafone, but the company told Sue it was unable to help or provide any details of who was receiving its services because of \"data protection\" rules. Sue also contacted her local police force. It referred her to Action Fraud which said it was unlikely any further action would be taken. Sue described the reaction from her bank as \"disgusting\". \"The whole thing was taking over my life. I didn\\'t know where to go for help, I couldn\\'t sleep. All day long I was on the internet trying to find out who else I could go to for help but there was nothing.\" \"I wrote and explained that my mum couldn\\'t have set up these direct debits. \"I explained she couldn\\'t feed herself, she couldn\\'t go to the bathroom on her own, she was monitored all the time. \"She didn\\'t have the capacity in her mind to think about setting up a direct debit and nobody listened. It was like [I] was being ignored and I had the feeling that because my mum was dead they [Lloyds] couldn\\'t care less.\" Direct Debit offers a guarantee which explains that companies wishing to use it to take payments directly from people\\'s bank accounts have to go through a careful vetting process. A spokesperson for the Direct Debit scheme said: \"The billers [companies] are required to carry out payer verification checks when a Direct Debit Instruction is set up - details of the verification checks used by billers cannot be shared for obvious reasons.\" The safeguards supposedly in place to protect vulnerable people, as well as the loopholes in the system, is something that Veronica Gray from Action on Elder Abuse says need tackling. \"This particular case highlights a lack of transparency in how the system operates. This level of passing the buck when elderly or vulnerable people fall between the gaps is just not good enough. \"The Financial Abuse Code of Practice, which is a voluntary code but which many banks have signed up to, is very clear about how financial institutions should treat vulnerable customers. Clearly this has not been used in this case. \"[Bank] staff are struggling to know what signs to look for and clearly don\\'t have the skills to and expertise to identify patterns of abuse when they see them.\" When it was contacted by BBC Money Box, Lloyds started a new investigation which concluded that its initial response was wrong and it would be refunding all of Margaret\\'s money, plus interest and £600 by way of compensation. A Lloyds spokesperson said: \"We were very sorry to hear of the difficulties experienced by Sue when dealing with her late mother\\'s account. While we were not informed back in 2010 that Margaret had moved into a nursing home, it should have been clear when her daughter contacted us in 2017 - following her mother\\'s death - that Margaret would not have been in a position to arrange these Direct Debits. \"We would like to apologise for the distress and inconvenience caused by our handling of this case and have now arranged for a full refund of all the payments.\" Warning signs Vodafone said in a statement that it was also looking again at the case and would be providing the details of an individual who may have used Margaret\\'s account to the police. It added there were a \"wide range of security verification and fraud checks when opening a new account\", but that people can subsequently change the direct debit details. It also said it would welcome any initiative that further strengthened the direct debit system. Whilst Sue is grateful that Lloyds have decided to refund the money stolen from her mother\\'s account she just wants to make sure this can\\'t happen to someone else. \"I really would like someone to be accountable for doing this. You know, for the police or somebody to find out who did this - in case they\\'re doing this to somebody else. \"Lloyds should have looked into the fact that this account had laid dormant for years and then all of a sudden this money is coming out of it - surely that would ring a bell, that something\\'s wrong there? \"And once you say someone\\'s in a home with dementia and these things have happened surely that should mean something?\" You can hear more on BBC Radio 4\\'s Money Box programme on Saturday at 12pm or listen again here. Follow Money Box and Dan on twitter.',\n",
       " 'requirement': 'Summarize the conclusion of the fraud case.'}"
      ]
     },
     "execution_count": 14,
     "metadata": {},
     "output_type": "execute_result"
    }
   ],
   "source": [
    "system_outputs[0]"
   ]
  }
 ],
 "metadata": {
  "kernelspec": {
   "display_name": "Python 3",
   "language": "python",
   "name": "python3"
  },
  "language_info": {
   "codemirror_mode": {
    "name": "ipython",
    "version": 3
   },
   "file_extension": ".py",
   "mimetype": "text/x-python",
   "name": "python",
   "nbconvert_exporter": "python",
   "pygments_lexer": "ipython3",
   "version": "3.8.17"
  }
 },
 "nbformat": 4,
 "nbformat_minor": 2
}
